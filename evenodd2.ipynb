{
 "cells": [
  {
   "cell_type": "code",
   "execution_count": 3,
   "id": "86b229b6",
   "metadata": {},
   "outputs": [
    {
     "name": "stdout",
     "output_type": "stream",
     "text": [
      "[1, 2, 3, 4, 5, 6, 7, 8, 9]\n",
      "Number of even numbers :  5\n",
      "Number of odd numbers :  4\n"
     ]
    }
   ],
   "source": [
    "num1 = [1,2,3,4,5,6,7,8,9]\n",
    "num2 = 0\n",
    "num3 = 0\n",
    "for i in range(0,9):\n",
    "    if (i%2==0):\n",
    "        num2+=1\n",
    "    else:\n",
    "        num3+=1\n",
    "print(num1)\n",
    "print('Number of even numbers : ',num2)\n",
    "print('Number of odd numbers : ',num3)"
   ]
  },
  {
   "cell_type": "code",
   "execution_count": null,
   "id": "6e3e4ddf",
   "metadata": {},
   "outputs": [],
   "source": []
  }
 ],
 "metadata": {
  "kernelspec": {
   "display_name": "Python 3 (ipykernel)",
   "language": "python",
   "name": "python3"
  },
  "language_info": {
   "codemirror_mode": {
    "name": "ipython",
    "version": 3
   },
   "file_extension": ".py",
   "mimetype": "text/x-python",
   "name": "python",
   "nbconvert_exporter": "python",
   "pygments_lexer": "ipython3",
   "version": "3.9.7"
  }
 },
 "nbformat": 4,
 "nbformat_minor": 5
}
